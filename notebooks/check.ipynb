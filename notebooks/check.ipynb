{
 "cells": [
  {
   "cell_type": "code",
   "execution_count": 9,
   "metadata": {},
   "outputs": [],
   "source": [
    "import pandas as pd"
   ]
  },
  {
   "cell_type": "code",
   "execution_count": 10,
   "metadata": {},
   "outputs": [],
   "source": [
    "df = pd.read_csv(\"all_airlines_clean.csv\")\n",
    "dupes = df[df.duplicated(subset=\"id\", keep=False)]\n"
   ]
  },
  {
   "cell_type": "code",
   "execution_count": 11,
   "metadata": {},
   "outputs": [
    {
     "data": {
      "text/plain": [
       "(50, 10)"
      ]
     },
     "execution_count": 11,
     "metadata": {},
     "output_type": "execute_result"
    }
   ],
   "source": [
    "dupes.shape"
   ]
  },
  {
   "cell_type": "code",
   "execution_count": 12,
   "metadata": {},
   "outputs": [
    {
     "data": {
      "text/plain": [
       "(940, 10)"
      ]
     },
     "execution_count": 12,
     "metadata": {},
     "output_type": "execute_result"
    }
   ],
   "source": [
    "df.shape"
   ]
  },
  {
   "cell_type": "code",
   "execution_count": 13,
   "metadata": {},
   "outputs": [
    {
     "data": {
      "text/html": [
       "<div>\n",
       "<style scoped>\n",
       "    .dataframe tbody tr th:only-of-type {\n",
       "        vertical-align: middle;\n",
       "    }\n",
       "\n",
       "    .dataframe tbody tr th {\n",
       "        vertical-align: top;\n",
       "    }\n",
       "\n",
       "    .dataframe thead th {\n",
       "        text-align: right;\n",
       "    }\n",
       "</style>\n",
       "<table border=\"1\" class=\"dataframe\">\n",
       "  <thead>\n",
       "    <tr style=\"text-align: right;\">\n",
       "      <th></th>\n",
       "      <th>airline</th>\n",
       "      <th>id</th>\n",
       "      <th>title</th>\n",
       "      <th>text</th>\n",
       "      <th>comments</th>\n",
       "      <th>combined_text</th>\n",
       "      <th>category</th>\n",
       "      <th>score</th>\n",
       "      <th>url</th>\n",
       "      <th>created_utc</th>\n",
       "    </tr>\n",
       "  </thead>\n",
       "  <tbody>\n",
       "    <tr>\n",
       "      <th>0</th>\n",
       "      <td>EasyJet</td>\n",
       "      <td>1ldgpnj</td>\n",
       "      <td>New flights from ABZ</td>\n",
       "      <td>Long overdue, but non-stop flights are restart...</td>\n",
       "      <td>Absolutely delighted about this - was such a h...</td>\n",
       "      <td>New flights from ABZ Long overdue, but non-sto...</td>\n",
       "      <td>Other</td>\n",
       "      <td>38</td>\n",
       "      <td>https://www.reddit.com/r/Aberdeen/comments/1ld...</td>\n",
       "      <td>2025/06</td>\n",
       "    </tr>\n",
       "    <tr>\n",
       "      <th>1</th>\n",
       "      <td>EasyJet</td>\n",
       "      <td>1ld3wdh</td>\n",
       "      <td>EU citizen traveling back to UK soon - ETA nee...</td>\n",
       "      <td>Hi all! Writing on some advice on ETA. I am a ...</td>\n",
       "      <td>Check https://www.gov.uk/eta/when-not-need-eta...</td>\n",
       "      <td>EU citizen traveling back to UK soon - ETA nee...</td>\n",
       "      <td>Other</td>\n",
       "      <td>0</td>\n",
       "      <td>https://www.reddit.com/r/ukvisa/comments/1ld3w...</td>\n",
       "      <td>2025/06</td>\n",
       "    </tr>\n",
       "    <tr>\n",
       "      <th>2</th>\n",
       "      <td>EasyJet</td>\n",
       "      <td>1lcyz16</td>\n",
       "      <td>Timing on getting through Naples Airport - pri...</td>\n",
       "      <td>Hi all. Flying into Naples the morning of July...</td>\n",
       "      <td>Ciao! Welcome to r/ItalyTravel. While you wait...</td>\n",
       "      <td>Timing on getting through Naples Airport - pri...</td>\n",
       "      <td>Flight Delay</td>\n",
       "      <td>2</td>\n",
       "      <td>https://www.reddit.com/r/ItalyTravel/comments/...</td>\n",
       "      <td>2025/06</td>\n",
       "    </tr>\n",
       "    <tr>\n",
       "      <th>3</th>\n",
       "      <td>EasyJet</td>\n",
       "      <td>1lcyhz2</td>\n",
       "      <td>Takeoff without stopping on the runway</td>\n",
       "      <td>I once flew with an easyjet a319 from Basel/Mu...</td>\n",
       "      <td>It’s fine. || Yes, that's normal and it is cal...</td>\n",
       "      <td>Takeoff without stopping on the runway I once ...</td>\n",
       "      <td>Flight Delay</td>\n",
       "      <td>0</td>\n",
       "      <td>https://www.reddit.com/r/aviation/comments/1lc...</td>\n",
       "      <td>2025/06</td>\n",
       "    </tr>\n",
       "    <tr>\n",
       "      <th>4</th>\n",
       "      <td>EasyJet</td>\n",
       "      <td>1lcv116</td>\n",
       "      <td>Changing easyJet passenger</td>\n",
       "      <td>Hello, \\n\\nHow easy it is to change a passenge...</td>\n",
       "      <td>You can change name online for £60 or £65 via ...</td>\n",
       "      <td>Changing easyJet passenger Hello, \\n\\nHow easy...</td>\n",
       "      <td>Pricing / Fees</td>\n",
       "      <td>0</td>\n",
       "      <td>https://www.reddit.com/r/Flights/comments/1lcv...</td>\n",
       "      <td>2025/06</td>\n",
       "    </tr>\n",
       "  </tbody>\n",
       "</table>\n",
       "</div>"
      ],
      "text/plain": [
       "   airline       id                                              title  \\\n",
       "0  EasyJet  1ldgpnj                               New flights from ABZ   \n",
       "1  EasyJet  1ld3wdh  EU citizen traveling back to UK soon - ETA nee...   \n",
       "2  EasyJet  1lcyz16  Timing on getting through Naples Airport - pri...   \n",
       "3  EasyJet  1lcyhz2             Takeoff without stopping on the runway   \n",
       "4  EasyJet  1lcv116                         Changing easyJet passenger   \n",
       "\n",
       "                                                text  \\\n",
       "0  Long overdue, but non-stop flights are restart...   \n",
       "1  Hi all! Writing on some advice on ETA. I am a ...   \n",
       "2  Hi all. Flying into Naples the morning of July...   \n",
       "3  I once flew with an easyjet a319 from Basel/Mu...   \n",
       "4  Hello, \\n\\nHow easy it is to change a passenge...   \n",
       "\n",
       "                                            comments  \\\n",
       "0  Absolutely delighted about this - was such a h...   \n",
       "1  Check https://www.gov.uk/eta/when-not-need-eta...   \n",
       "2  Ciao! Welcome to r/ItalyTravel. While you wait...   \n",
       "3  It’s fine. || Yes, that's normal and it is cal...   \n",
       "4  You can change name online for £60 or £65 via ...   \n",
       "\n",
       "                                       combined_text        category  score  \\\n",
       "0  New flights from ABZ Long overdue, but non-sto...           Other     38   \n",
       "1  EU citizen traveling back to UK soon - ETA nee...           Other      0   \n",
       "2  Timing on getting through Naples Airport - pri...    Flight Delay      2   \n",
       "3  Takeoff without stopping on the runway I once ...    Flight Delay      0   \n",
       "4  Changing easyJet passenger Hello, \\n\\nHow easy...  Pricing / Fees      0   \n",
       "\n",
       "                                                 url created_utc  \n",
       "0  https://www.reddit.com/r/Aberdeen/comments/1ld...     2025/06  \n",
       "1  https://www.reddit.com/r/ukvisa/comments/1ld3w...     2025/06  \n",
       "2  https://www.reddit.com/r/ItalyTravel/comments/...     2025/06  \n",
       "3  https://www.reddit.com/r/aviation/comments/1lc...     2025/06  \n",
       "4  https://www.reddit.com/r/Flights/comments/1lcv...     2025/06  "
      ]
     },
     "execution_count": 13,
     "metadata": {},
     "output_type": "execute_result"
    }
   ],
   "source": [
    "df.head()"
   ]
  },
  {
   "cell_type": "code",
   "execution_count": 8,
   "metadata": {},
   "outputs": [
    {
     "data": {
      "text/plain": [
       "np.int64(940)"
      ]
     },
     "execution_count": 8,
     "metadata": {},
     "output_type": "execute_result"
    }
   ],
   "source": [
    "df['created_utc'].isna().sum()"
   ]
  },
  {
   "cell_type": "code",
   "execution_count": null,
   "metadata": {},
   "outputs": [],
   "source": []
  }
 ],
 "metadata": {
  "kernelspec": {
   "display_name": "travelapi",
   "language": "python",
   "name": "python3"
  },
  "language_info": {
   "codemirror_mode": {
    "name": "ipython",
    "version": 3
   },
   "file_extension": ".py",
   "mimetype": "text/x-python",
   "name": "python",
   "nbconvert_exporter": "python",
   "pygments_lexer": "ipython3",
   "version": "3.10.0"
  }
 },
 "nbformat": 4,
 "nbformat_minor": 2
}
